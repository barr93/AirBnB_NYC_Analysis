{
 "cells": [
  {
   "cell_type": "code",
   "execution_count": null,
   "metadata": {
    "vscode": {
     "languageId": "plaintext"
    }
   },
   "outputs": [],
   "source": [
    "# NYC Airbnb Analysis\n",
    "\n",
    "# Import necessary libraries\n",
    "import pandas as pd\n",
    "import matplotlib.pyplot as plt\n",
    "import seaborn as sns\n",
    "\n",
    "# Set visualization styles\n",
    "sns.set(style=\"whitegrid\")\n",
    "\n",
    "# Load the data\n",
    "data = pd.read_csv('Data/AB_NYC_2019.csv')\n",
    "\n",
    "# Display the first few rows\n",
    "data.head()\n"
   ]
  },
  {
   "cell_type": "markdown",
   "metadata": {},
   "source": [
    "## Data Overview and Cleaning\n",
    "\n",
    "Before diving into the analysis, let's check for any missing values, review the data types, and ensure the data is ready for analysis.\n"
   ]
  },
  {
   "cell_type": "code",
   "execution_count": null,
   "metadata": {
    "vscode": {
     "languageId": "plaintext"
    }
   },
   "outputs": [],
   "source": [
    "# Check for missing values\n",
    "data.isnull().sum()\n",
    "\n",
    "# Drop unnecessary columns (e.g., 'name' if it's not needed for analysis)\n",
    "data.drop(['name'], axis=1, inplace=True)\n",
    "\n",
    "# Fill or drop missing values for relevant columns\n",
    "data['reviews_per_month'].fillna(0, inplace=True)\n",
    "data['last_review'].fillna('No Review', inplace=True)\n",
    "\n",
    "# Check data types\n",
    "data.info()\n"
   ]
  },
  {
   "cell_type": "markdown",
   "metadata": {},
   "source": [
    "### Summary Statistics for Price, Minimum Nights, and Availability\n",
    "\n",
    "This section provides summary statistics for the main metrics of interest: `price`, `minimum_nights`, and `availability_365`.\n"
   ]
  },
  {
   "cell_type": "code",
   "execution_count": null,
   "metadata": {
    "vscode": {
     "languageId": "plaintext"
    }
   },
   "outputs": [],
   "source": [
    "# Summary statistics\n",
    "data[['price', 'minimum_nights', 'availability_365']].describe()\n"
   ]
  },
  {
   "cell_type": "markdown",
   "metadata": {},
   "source": [
    "### Average Price by Neighborhood\n",
    "\n",
    "Visualizing the average price by neighborhood helps identify which areas command the highest and lowest prices, providing insights into potential profitability.\n"
   ]
  },
  {
   "cell_type": "code",
   "execution_count": null,
   "metadata": {
    "vscode": {
     "languageId": "plaintext"
    }
   },
   "outputs": [],
   "source": [
    "# Average price by neighborhood\n",
    "avg_price_neighborhood = data.groupby('neighbourhood_group')['price'].mean().sort_values()\n",
    "\n",
    "# Plot\n",
    "plt.figure(figsize=(10, 6))\n",
    "sns.barplot(x=avg_price_neighborhood.index, y=avg_price_neighborhood.values, palette=\"viridis\")\n",
    "plt.title('Average Price by Neighborhood')\n",
    "plt.xlabel('Neighborhood')\n",
    "plt.ylabel('Average Price ($)')\n",
    "plt.show()\n"
   ]
  },
  {
   "cell_type": "code",
   "execution_count": null,
   "metadata": {
    "vscode": {
     "languageId": "plaintext"
    }
   },
   "outputs": [],
   "source": [
    "### Distribution of Room Types\n",
    "\n",
    "Examining the distribution of room types shows what types of accommodations are most common on Airbnb in NYC.\n"
   ]
  },
  {
   "cell_type": "code",
   "execution_count": null,
   "metadata": {
    "vscode": {
     "languageId": "plaintext"
    }
   },
   "outputs": [],
   "source": [
    "# Room type distribution\n",
    "plt.figure(figsize=(8, 5))\n",
    "sns.countplot(data=data, x='room_type', palette=\"coolwarm\")\n",
    "plt.title('Room Type Distribution')\n",
    "plt.xlabel('Room Type')\n",
    "plt.ylabel('Number of Listings')\n",
    "plt.show()\n"
   ]
  },
  {
   "cell_type": "code",
   "execution_count": null,
   "metadata": {
    "vscode": {
     "languageId": "plaintext"
    }
   },
   "outputs": [],
   "source": [
    "### Availability Analysis by Price Range\n",
    "\n",
    "Breaking down availability by price range helps us understand if more expensive listings are available as often as budget-friendly ones.\n"
   ]
  },
  {
   "cell_type": "code",
   "execution_count": null,
   "metadata": {
    "vscode": {
     "languageId": "plaintext"
    }
   },
   "outputs": [],
   "source": [
    "# Define price ranges and categorize\n",
    "price_bins = [0, 50, 150, 500, 1000, data['price'].max()]\n",
    "price_labels = ['Low', 'Medium', 'High', 'Very High', 'Luxury']\n",
    "data['price_range'] = pd.cut(data['price'], bins=price_bins, labels=price_labels)\n",
    "\n",
    "# Average availability by price range\n",
    "availability_by_price = data.groupby('price_range')['availability_365'].mean()\n",
    "\n",
    "# Plot\n",
    "plt.figure(figsize=(8, 5))\n",
    "sns.barplot(x=availability_by_price.index, y=availability_by_price.values, palette=\"magma\")\n",
    "plt.title('Average Availability by Price Range')\n",
    "plt.xlabel('Price Range')\n",
    "plt.ylabel('Average Availability (days)')\n",
    "plt.show()\n"
   ]
  },
  {
   "cell_type": "markdown",
   "metadata": {},
   "source": [
    "### Seasonal Review Trends\n",
    "\n",
    "Analyzing reviews by month can highlight seasonality, indicating peak tourist seasons for NYC Airbnb listings.\n"
   ]
  },
  {
   "cell_type": "code",
   "execution_count": null,
   "metadata": {
    "vscode": {
     "languageId": "plaintext"
    }
   },
   "outputs": [],
   "source": [
    "# Convert last_review to datetime\n",
    "data['last_review'] = pd.to_datetime(data['last_review'], errors='coerce')\n",
    "\n",
    "# Extract the month from last_review\n",
    "data['review_month'] = data['last_review'].dt.month\n",
    "\n",
    "# Count of reviews per month\n",
    "monthly_reviews = data['review_month'].value_counts().sort_index()\n",
    "\n",
    "# Plot\n",
    "plt.figure(figsize=(10, 6))\n",
    "sns.lineplot(x=monthly_reviews.index, y=monthly_reviews.values, marker='o')\n",
    "plt.title('Monthly Review Counts')\n",
    "plt.xlabel('Month')\n",
    "plt.ylabel('Number of Reviews')\n",
    "plt.xticks(range(1, 13))\n",
    "plt.show()\n"
   ]
  },
  {
   "cell_type": "markdown",
   "metadata": {},
   "source": [
    "### Top Hosts by Number of Listings\n",
    "\n",
    "Identifying hosts with the most listings helps reveal larger property managers or more active hosts in the market.\n"
   ]
  },
  {
   "cell_type": "code",
   "execution_count": null,
   "metadata": {
    "vscode": {
     "languageId": "plaintext"
    }
   },
   "outputs": [],
   "source": [
    "# Top 10 hosts by number of listings\n",
    "top_hosts = data['host_id'].value_counts().head(10)\n",
    "\n",
    "# Plot\n",
    "plt.figure(figsize=(10, 6))\n",
    "sns.barplot(x=top_hosts.index, y=top_hosts.values, palette=\"inferno\")\n",
    "plt.title('Top 10 Hosts by Number of Listings')\n",
    "plt.xlabel('Host ID')\n",
    "plt.ylabel('Number of Listings')\n",
    "plt.show()\n"
   ]
  },
  {
   "cell_type": "code",
   "execution_count": null,
   "metadata": {
    "vscode": {
     "languageId": "plaintext"
    }
   },
   "outputs": [],
   "source": [
    "## Conclusion\n",
    "\n",
    "This analysis revealed several key insights into the NYC Airbnb market:\n",
    "- **Average Price by Neighborhood**: Manhattan has the highest average price, while the Bronx is more budget-friendly.\n",
    "- **Room Type Distribution**: Entire homes are the most popular room type, followed by private rooms.\n",
    "- **Availability Trends by Price**: Luxury listings have lower availability, indicating demand, while budget listings are generally more available.\n",
    "- **Seasonal Demand**: Monthly review trends suggest peak demand in summer months.\n",
    "\n",
    "These insights can guide Airbnb hosts, investors, and guests in understanding the dynamics of NYC’s short-term rental market.\n"
   ]
  }
 ],
 "metadata": {
  "language_info": {
   "name": "python"
  }
 },
 "nbformat": 4,
 "nbformat_minor": 2
}
